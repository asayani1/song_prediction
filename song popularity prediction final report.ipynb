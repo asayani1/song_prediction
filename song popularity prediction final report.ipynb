{
 "cells": [
  {
   "cell_type": "markdown",
   "metadata": {},
   "source": [
    "<h1><center>Song Popularity Prediction</center></h1>"
   ]
  },
  {
   "cell_type": "markdown",
   "metadata": {},
   "source": [
    "<h3><center>By:<br> \n",
    "() Aamir Sayani (aamir.sayani@sjsu.edu),  <br>\n",
    "(005825053) Freda Lam (takman.lam@sjsu.edu), <br>\n",
    "(014628861) Sahana Halady (sahana.halady@sjsu.edu),<br>\n",
    "(014628952) Indira Neela (Indira.neela@sjsu.edu)</center></h3>"
   ]
  },
  {
   "cell_type": "markdown",
   "metadata": {},
   "source": [
    "### Motivation:"
   ]
  },
  {
   "cell_type": "markdown",
   "metadata": {},
   "source": [
    "When figuring out a machine learning project, our group decided to first come up with common interests. Through that, we all landed on music. We were all fascinated about how Spotify and Apple Music all have the best recommendations, how a lot of artists have a unique recipe for success, and how the industry is a massive market. When figuring out topics, we were curious to see if we can build a model that helps find the secret solution to a “popular song.” What is needed for a song to become a hit?\n",
    "\n",
    "\t"
   ]
  },
  {
   "cell_type": "markdown",
   "metadata": {},
   "source": [
    "With any machine learning project, the project is as good as the data you find. Luckily, we were able to find a dataset from Columbia University called the Million Song Dataset, pulled through Echo Nest. Together with the business problem and the large dataset with many features, we had the tools needed to create the best model.   \n"
   ]
  },
  {
   "cell_type": "markdown",
   "metadata": {},
   "source": [
    "This project helps in understanding the key to a song becoming popular and inturn helps in predicting whether a song would be polular or not. This helps the investers and the song writers and singers in understanding if they would get success through a particular song or not that is being released."
   ]
  },
  {
   "cell_type": "markdown",
   "metadata": {},
   "source": [
    "### Apporach:"
   ]
  },
  {
   "cell_type": "markdown",
   "metadata": {},
   "source": [
    "Here we are using the million song dataset which contains 53 features describing the song. This dataset is a free dataset and doesnot need any permissions to acesses it."
   ]
  },
  {
   "cell_type": "markdown",
   "metadata": {},
   "source": [
    "The libraries that are used to perform the complete task, i.e, from reading the the dataset to perfoming the task of prediction is either a built class or a pre-exixting library. "
   ]
  },
  {
   "cell_type": "code",
   "execution_count": 1,
   "metadata": {},
   "outputs": [],
   "source": [
    "import os\n",
    "import sys\n",
    "import glob\n",
    "import sqlite3\n",
    "import numpy as np\n",
    "import pandas as pd\n",
    "import seaborn as sns\n",
    "import matplotlib.pyplot as plt\n",
    "\n",
    "%matplotlib inline"
   ]
  },
  {
   "cell_type": "markdown",
   "metadata": {},
   "source": [
    "#### Code Explaination:"
   ]
  },
  {
   "cell_type": "markdown",
   "metadata": {},
   "source": [
    "The first problem we had to solve was the format of the data. After pulling the data, we had to first reformat the data to which can convert the data from h5 to csv file format. We generated a script that produced the data in csv format that we could use to train our model.  "
   ]
  },
  {
   "cell_type": "code",
   "execution_count": 2,
   "metadata": {},
   "outputs": [],
   "source": [
    "def get_headers(df):\n",
    "    return list(df.columns.values)\n",
    "\n",
    "def HDFS_to_CSV(path,output_file,return_df=False):\n",
    "    base_dir = path\n",
    "    ext = \".H5\"\n",
    "    df = pd.DataFrame()\n",
    "    first_run = True\n",
    "    for root,dirs,files in os.walk(base_dir):\n",
    "        files = glob.glob(os.path.join(root,\"*\"+ext))\n",
    "        for f in files:\n",
    "            store = pd.HDFStore(f)\n",
    "            song_analysis = pd.read_hdf(store,'/analysis/songs')\n",
    "            metadata = pd.read_hdf(store,'/metadata/songs')\n",
    "            musicbrainz = pd.read_hdf(store,'musicbrainz/songs')\n",
    "            frames = [song_analysis,metadata,musicbrainz]\n",
    "            song_df = pd.concat(frames,axis=1)\n",
    "            \n",
    "            if return_df:\n",
    "                df.append(song_df)\n",
    "\n",
    "            if first_run:\n",
    "                song_df.to_csv(output_file)\n",
    "                first_run = False\n",
    "            else:\n",
    "                with open(output_file, 'a') as fl:\n",
    "                    song_df.to_csv(fl, header=False)\n",
    "            store.close()\n",
    "    if return_df:\n",
    "        return df\n",
    "\n",
    "def get_songs_df_from_csv(filename):\n",
    "    return pd.read_csv(filename,index_col=0)   \n",
    "\n",
    "def clean(df):\n",
    "    df = df.fillna(0)\n",
    "    #Drop rows with year = 0\n",
    "    df = df.drop(df[df.year == 0].index)\n",
    "    #Drop rows with song hotness = 0\n",
    "    df = df.drop(df[df.song_hotttnesss==0].index)\n",
    "\n",
    "    indices_to_keep = ~df.isin([np.nan, np.inf, -np.inf]).any(1)\n",
    "    return df[indices_to_keep]\n",
    "\n",
    "def drop_specific_cols(df):\n",
    "    cols = ['analysis_sample_rate','danceability','energy','genre','artist_7digitalid','audio_md5','analyzer_version','artist_latitude','artist_location','artist_longitude','artist_playmeid','track_7digitalid','release_7digitalid','key_confidence','mode_confidence','time_signature_confidence']\n",
    "    df = df.drop(cols,axis=1)\n",
    "    idx_cols = 'idx_'\n",
    "    return df[df.columns.drop(list(df.filter(regex=idx_cols)))]\n"
   ]
  },
  {
   "cell_type": "code",
   "execution_count": 3,
   "metadata": {},
   "outputs": [
    {
     "name": "stdout",
     "output_type": "stream",
     "text": [
      "Number of Rows: 1000000\n",
      "Number of Columns:53\n"
     ]
    },
    {
     "data": {
      "text/html": [
       "<div>\n",
       "<style scoped>\n",
       "    .dataframe tbody tr th:only-of-type {\n",
       "        vertical-align: middle;\n",
       "    }\n",
       "\n",
       "    .dataframe tbody tr th {\n",
       "        vertical-align: top;\n",
       "    }\n",
       "\n",
       "    .dataframe thead th {\n",
       "        text-align: right;\n",
       "    }\n",
       "</style>\n",
       "<table border=\"1\" class=\"dataframe\">\n",
       "  <thead>\n",
       "    <tr style=\"text-align: right;\">\n",
       "      <th></th>\n",
       "      <th>analysis_sample_rate</th>\n",
       "      <th>audio_md5</th>\n",
       "      <th>danceability</th>\n",
       "      <th>duration</th>\n",
       "      <th>end_of_fade_in</th>\n",
       "      <th>energy</th>\n",
       "      <th>idx_bars_confidence</th>\n",
       "      <th>idx_bars_start</th>\n",
       "      <th>idx_beats_confidence</th>\n",
       "      <th>idx_beats_start</th>\n",
       "      <th>...</th>\n",
       "      <th>idx_artist_terms</th>\n",
       "      <th>idx_similar_artists</th>\n",
       "      <th>release</th>\n",
       "      <th>release_7digitalid</th>\n",
       "      <th>song_hotttnesss</th>\n",
       "      <th>song_id</th>\n",
       "      <th>title</th>\n",
       "      <th>track_7digitalid</th>\n",
       "      <th>idx_artist_mbtags</th>\n",
       "      <th>year</th>\n",
       "    </tr>\n",
       "  </thead>\n",
       "  <tbody>\n",
       "    <tr>\n",
       "      <th>0</th>\n",
       "      <td>22050</td>\n",
       "      <td>aee9820911781c734e7694c5432990ca</td>\n",
       "      <td>0.0</td>\n",
       "      <td>252.05506</td>\n",
       "      <td>2.049</td>\n",
       "      <td>0.0</td>\n",
       "      <td>0</td>\n",
       "      <td>0</td>\n",
       "      <td>0</td>\n",
       "      <td>0</td>\n",
       "      <td>...</td>\n",
       "      <td>0</td>\n",
       "      <td>0</td>\n",
       "      <td>Monster Ballads X-Mas</td>\n",
       "      <td>633681</td>\n",
       "      <td>0.542899</td>\n",
       "      <td>SOQMMHC12AB0180CB8</td>\n",
       "      <td>Silent Night</td>\n",
       "      <td>7032331</td>\n",
       "      <td>0</td>\n",
       "      <td>2003</td>\n",
       "    </tr>\n",
       "    <tr>\n",
       "      <th>1</th>\n",
       "      <td>22050</td>\n",
       "      <td>ed222d07c83bac7689d52753610a513a</td>\n",
       "      <td>0.0</td>\n",
       "      <td>156.55138</td>\n",
       "      <td>0.258</td>\n",
       "      <td>0.0</td>\n",
       "      <td>0</td>\n",
       "      <td>0</td>\n",
       "      <td>0</td>\n",
       "      <td>0</td>\n",
       "      <td>...</td>\n",
       "      <td>0</td>\n",
       "      <td>0</td>\n",
       "      <td>Karkuteillä</td>\n",
       "      <td>145266</td>\n",
       "      <td>0.299877</td>\n",
       "      <td>SOVFVAK12A8C1350D9</td>\n",
       "      <td>Tanssi vaan</td>\n",
       "      <td>1514808</td>\n",
       "      <td>0</td>\n",
       "      <td>1995</td>\n",
       "    </tr>\n",
       "    <tr>\n",
       "      <th>2</th>\n",
       "      <td>22050</td>\n",
       "      <td>96c7104889a128fef84fa469d60e380c</td>\n",
       "      <td>0.0</td>\n",
       "      <td>138.97098</td>\n",
       "      <td>0.000</td>\n",
       "      <td>0.0</td>\n",
       "      <td>0</td>\n",
       "      <td>0</td>\n",
       "      <td>0</td>\n",
       "      <td>0</td>\n",
       "      <td>...</td>\n",
       "      <td>0</td>\n",
       "      <td>0</td>\n",
       "      <td>Butter</td>\n",
       "      <td>625706</td>\n",
       "      <td>0.617871</td>\n",
       "      <td>SOGTUKN12AB017F4F1</td>\n",
       "      <td>No One Could Ever</td>\n",
       "      <td>6945353</td>\n",
       "      <td>0</td>\n",
       "      <td>2006</td>\n",
       "    </tr>\n",
       "    <tr>\n",
       "      <th>3</th>\n",
       "      <td>22050</td>\n",
       "      <td>0f7da84b6b583e3846c7e022fb3a92a2</td>\n",
       "      <td>0.0</td>\n",
       "      <td>145.05751</td>\n",
       "      <td>0.000</td>\n",
       "      <td>0.0</td>\n",
       "      <td>0</td>\n",
       "      <td>0</td>\n",
       "      <td>0</td>\n",
       "      <td>0</td>\n",
       "      <td>...</td>\n",
       "      <td>0</td>\n",
       "      <td>0</td>\n",
       "      <td>De Culo</td>\n",
       "      <td>199368</td>\n",
       "      <td>NaN</td>\n",
       "      <td>SOBNYVR12A8C13558C</td>\n",
       "      <td>Si Vos Querés</td>\n",
       "      <td>2168257</td>\n",
       "      <td>0</td>\n",
       "      <td>2003</td>\n",
       "    </tr>\n",
       "    <tr>\n",
       "      <th>4</th>\n",
       "      <td>22050</td>\n",
       "      <td>228dd6392ad8001b0281f533f34c72fd</td>\n",
       "      <td>0.0</td>\n",
       "      <td>514.29832</td>\n",
       "      <td>0.000</td>\n",
       "      <td>0.0</td>\n",
       "      <td>0</td>\n",
       "      <td>0</td>\n",
       "      <td>0</td>\n",
       "      <td>0</td>\n",
       "      <td>...</td>\n",
       "      <td>0</td>\n",
       "      <td>0</td>\n",
       "      <td>Rene Ablaze Presents Winter Sessions</td>\n",
       "      <td>209038</td>\n",
       "      <td>NaN</td>\n",
       "      <td>SOHSBXH12A8C13B0DF</td>\n",
       "      <td>Tangle Of Aspens</td>\n",
       "      <td>2264873</td>\n",
       "      <td>0</td>\n",
       "      <td>0</td>\n",
       "    </tr>\n",
       "  </tbody>\n",
       "</table>\n",
       "<p>5 rows × 53 columns</p>\n",
       "</div>"
      ],
      "text/plain": [
       "   analysis_sample_rate                         audio_md5  danceability  \\\n",
       "0                 22050  aee9820911781c734e7694c5432990ca           0.0   \n",
       "1                 22050  ed222d07c83bac7689d52753610a513a           0.0   \n",
       "2                 22050  96c7104889a128fef84fa469d60e380c           0.0   \n",
       "3                 22050  0f7da84b6b583e3846c7e022fb3a92a2           0.0   \n",
       "4                 22050  228dd6392ad8001b0281f533f34c72fd           0.0   \n",
       "\n",
       "    duration  end_of_fade_in  energy  idx_bars_confidence  idx_bars_start  \\\n",
       "0  252.05506           2.049     0.0                    0               0   \n",
       "1  156.55138           0.258     0.0                    0               0   \n",
       "2  138.97098           0.000     0.0                    0               0   \n",
       "3  145.05751           0.000     0.0                    0               0   \n",
       "4  514.29832           0.000     0.0                    0               0   \n",
       "\n",
       "   idx_beats_confidence  idx_beats_start  ...  idx_artist_terms  \\\n",
       "0                     0                0  ...                 0   \n",
       "1                     0                0  ...                 0   \n",
       "2                     0                0  ...                 0   \n",
       "3                     0                0  ...                 0   \n",
       "4                     0                0  ...                 0   \n",
       "\n",
       "   idx_similar_artists                               release  \\\n",
       "0                    0                 Monster Ballads X-Mas   \n",
       "1                    0                           Karkuteillä   \n",
       "2                    0                                Butter   \n",
       "3                    0                               De Culo   \n",
       "4                    0  Rene Ablaze Presents Winter Sessions   \n",
       "\n",
       "   release_7digitalid  song_hotttnesss             song_id              title  \\\n",
       "0              633681         0.542899  SOQMMHC12AB0180CB8       Silent Night   \n",
       "1              145266         0.299877  SOVFVAK12A8C1350D9        Tanssi vaan   \n",
       "2              625706         0.617871  SOGTUKN12AB017F4F1  No One Could Ever   \n",
       "3              199368              NaN  SOBNYVR12A8C13558C      Si Vos Querés   \n",
       "4              209038              NaN  SOHSBXH12A8C13B0DF   Tangle Of Aspens   \n",
       "\n",
       "   track_7digitalid  idx_artist_mbtags  year  \n",
       "0           7032331                  0  2003  \n",
       "1           1514808                  0  1995  \n",
       "2           6945353                  0  2006  \n",
       "3           2168257                  0  2003  \n",
       "4           2264873                  0     0  \n",
       "\n",
       "[5 rows x 53 columns]"
      ]
     },
     "execution_count": 3,
     "metadata": {},
     "output_type": "execute_result"
    }
   ],
   "source": [
    "#GETTING DATA\n",
    "songs_df = get_songs_df_from_csv('./msd_summary.csv')\n",
    "\n",
    "#During the csv making process, I was merging different dfs into one df and df index info was lost. Let's reset the indices\n",
    "songs_df.reset_index(drop=True,inplace=True)\n",
    "\n",
    "print(f\"Number of Rows: {len(songs_df)}\")\n",
    "print(f\"Number of Columns:{len(songs_df.columns)}\")\n",
    "songs_df.head()\n"
   ]
  },
  {
   "cell_type": "markdown",
   "metadata": {},
   "source": [
    "The below code cleans the data for and null values. If the year of the song is 0 then that row is completely deleated and if the song hotness is 0 then those rows are also dropped. The Many of the feature columns are dropped as we do not have any use with those columns along the way. "
   ]
  },
  {
   "cell_type": "markdown",
   "metadata": {},
   "source": [
    "After providing these changes, our dataset drastically became more tangible to work. We had shrunk down the million song dataset to approximately 306,000, and features from 53 to 19. We were now ready to learn more about our data. "
   ]
  },
  {
   "cell_type": "code",
   "execution_count": 4,
   "metadata": {},
   "outputs": [
    {
     "name": "stdout",
     "output_type": "stream",
     "text": [
      "Number of Columns after data cleansing: 19\n",
      "Number of rows after cleansing: 306298\n"
     ]
    },
    {
     "data": {
      "text/html": [
       "<div>\n",
       "<style scoped>\n",
       "    .dataframe tbody tr th:only-of-type {\n",
       "        vertical-align: middle;\n",
       "    }\n",
       "\n",
       "    .dataframe tbody tr th {\n",
       "        vertical-align: top;\n",
       "    }\n",
       "\n",
       "    .dataframe thead th {\n",
       "        text-align: right;\n",
       "    }\n",
       "</style>\n",
       "<table border=\"1\" class=\"dataframe\">\n",
       "  <thead>\n",
       "    <tr style=\"text-align: right;\">\n",
       "      <th></th>\n",
       "      <th>duration</th>\n",
       "      <th>end_of_fade_in</th>\n",
       "      <th>key</th>\n",
       "      <th>loudness</th>\n",
       "      <th>mode</th>\n",
       "      <th>start_of_fade_out</th>\n",
       "      <th>tempo</th>\n",
       "      <th>time_signature</th>\n",
       "      <th>track_id</th>\n",
       "      <th>artist_familiarity</th>\n",
       "      <th>artist_hotttnesss</th>\n",
       "      <th>artist_id</th>\n",
       "      <th>artist_mbid</th>\n",
       "      <th>artist_name</th>\n",
       "      <th>release</th>\n",
       "      <th>song_hotttnesss</th>\n",
       "      <th>song_id</th>\n",
       "      <th>title</th>\n",
       "      <th>year</th>\n",
       "    </tr>\n",
       "  </thead>\n",
       "  <tbody>\n",
       "    <tr>\n",
       "      <th>0</th>\n",
       "      <td>252.05506</td>\n",
       "      <td>2.049</td>\n",
       "      <td>10</td>\n",
       "      <td>-4.829</td>\n",
       "      <td>0</td>\n",
       "      <td>236.635</td>\n",
       "      <td>87.002</td>\n",
       "      <td>4</td>\n",
       "      <td>TRMMMYQ128F932D901</td>\n",
       "      <td>0.649822</td>\n",
       "      <td>0.394032</td>\n",
       "      <td>ARYZTJS1187B98C555</td>\n",
       "      <td>357ff05d-848a-44cf-b608-cb34b5701ae5</td>\n",
       "      <td>Faster Pussy cat</td>\n",
       "      <td>Monster Ballads X-Mas</td>\n",
       "      <td>0.542899</td>\n",
       "      <td>SOQMMHC12AB0180CB8</td>\n",
       "      <td>Silent Night</td>\n",
       "      <td>2003</td>\n",
       "    </tr>\n",
       "    <tr>\n",
       "      <th>1</th>\n",
       "      <td>156.55138</td>\n",
       "      <td>0.258</td>\n",
       "      <td>9</td>\n",
       "      <td>-10.555</td>\n",
       "      <td>1</td>\n",
       "      <td>148.660</td>\n",
       "      <td>150.778</td>\n",
       "      <td>1</td>\n",
       "      <td>TRMMMKD128F425225D</td>\n",
       "      <td>0.439604</td>\n",
       "      <td>0.356992</td>\n",
       "      <td>ARMVN3U1187FB3A1EB</td>\n",
       "      <td>8d7ef530-a6fd-4f8f-b2e2-74aec765e0f9</td>\n",
       "      <td>Karkkiautomaatti</td>\n",
       "      <td>Karkuteillä</td>\n",
       "      <td>0.299877</td>\n",
       "      <td>SOVFVAK12A8C1350D9</td>\n",
       "      <td>Tanssi vaan</td>\n",
       "      <td>1995</td>\n",
       "    </tr>\n",
       "    <tr>\n",
       "      <th>2</th>\n",
       "      <td>138.97098</td>\n",
       "      <td>0.000</td>\n",
       "      <td>7</td>\n",
       "      <td>-2.060</td>\n",
       "      <td>1</td>\n",
       "      <td>138.971</td>\n",
       "      <td>177.768</td>\n",
       "      <td>4</td>\n",
       "      <td>TRMMMRX128F93187D9</td>\n",
       "      <td>0.643681</td>\n",
       "      <td>0.437504</td>\n",
       "      <td>ARGEKB01187FB50750</td>\n",
       "      <td>3d403d44-36ce-465c-ad43-ae877e65adc4</td>\n",
       "      <td>Hudson Mohawke</td>\n",
       "      <td>Butter</td>\n",
       "      <td>0.617871</td>\n",
       "      <td>SOGTUKN12AB017F4F1</td>\n",
       "      <td>No One Could Ever</td>\n",
       "      <td>2006</td>\n",
       "    </tr>\n",
       "    <tr>\n",
       "      <th>13</th>\n",
       "      <td>318.45832</td>\n",
       "      <td>0.502</td>\n",
       "      <td>10</td>\n",
       "      <td>-10.670</td>\n",
       "      <td>1</td>\n",
       "      <td>306.265</td>\n",
       "      <td>67.567</td>\n",
       "      <td>3</td>\n",
       "      <td>TRMMMBW128F4260CAE</td>\n",
       "      <td>0.621826</td>\n",
       "      <td>0.406985</td>\n",
       "      <td>AREMPER1187B9AEB42</td>\n",
       "      <td>14efbb08-c3d8-404c-9ead-ad71fa586ee6</td>\n",
       "      <td>Tiger Lou</td>\n",
       "      <td>The Loyal</td>\n",
       "      <td>0.463490</td>\n",
       "      <td>SOMPVQB12A8C1379BB</td>\n",
       "      <td>Pilots</td>\n",
       "      <td>2005</td>\n",
       "    </tr>\n",
       "    <tr>\n",
       "      <th>15</th>\n",
       "      <td>262.26893</td>\n",
       "      <td>0.194</td>\n",
       "      <td>11</td>\n",
       "      <td>-3.925</td>\n",
       "      <td>1</td>\n",
       "      <td>259.419</td>\n",
       "      <td>122.332</td>\n",
       "      <td>4</td>\n",
       "      <td>TRMMMKI128F931D80D</td>\n",
       "      <td>0.529819</td>\n",
       "      <td>0.410229</td>\n",
       "      <td>ARSB5591187B99A848</td>\n",
       "      <td>fba3e876-68f1-4a1f-99d9-c604480202ba</td>\n",
       "      <td>Lena Philipsson</td>\n",
       "      <td>Lena 20 År</td>\n",
       "      <td>0.212045</td>\n",
       "      <td>SOSDCFG12AB0184647</td>\n",
       "      <td>006</td>\n",
       "      <td>1998</td>\n",
       "    </tr>\n",
       "  </tbody>\n",
       "</table>\n",
       "</div>"
      ],
      "text/plain": [
       "     duration  end_of_fade_in  key  loudness  mode  start_of_fade_out  \\\n",
       "0   252.05506           2.049   10    -4.829     0            236.635   \n",
       "1   156.55138           0.258    9   -10.555     1            148.660   \n",
       "2   138.97098           0.000    7    -2.060     1            138.971   \n",
       "13  318.45832           0.502   10   -10.670     1            306.265   \n",
       "15  262.26893           0.194   11    -3.925     1            259.419   \n",
       "\n",
       "      tempo  time_signature            track_id  artist_familiarity  \\\n",
       "0    87.002               4  TRMMMYQ128F932D901            0.649822   \n",
       "1   150.778               1  TRMMMKD128F425225D            0.439604   \n",
       "2   177.768               4  TRMMMRX128F93187D9            0.643681   \n",
       "13   67.567               3  TRMMMBW128F4260CAE            0.621826   \n",
       "15  122.332               4  TRMMMKI128F931D80D            0.529819   \n",
       "\n",
       "    artist_hotttnesss           artist_id  \\\n",
       "0            0.394032  ARYZTJS1187B98C555   \n",
       "1            0.356992  ARMVN3U1187FB3A1EB   \n",
       "2            0.437504  ARGEKB01187FB50750   \n",
       "13           0.406985  AREMPER1187B9AEB42   \n",
       "15           0.410229  ARSB5591187B99A848   \n",
       "\n",
       "                             artist_mbid       artist_name  \\\n",
       "0   357ff05d-848a-44cf-b608-cb34b5701ae5  Faster Pussy cat   \n",
       "1   8d7ef530-a6fd-4f8f-b2e2-74aec765e0f9  Karkkiautomaatti   \n",
       "2   3d403d44-36ce-465c-ad43-ae877e65adc4    Hudson Mohawke   \n",
       "13  14efbb08-c3d8-404c-9ead-ad71fa586ee6         Tiger Lou   \n",
       "15  fba3e876-68f1-4a1f-99d9-c604480202ba   Lena Philipsson   \n",
       "\n",
       "                  release  song_hotttnesss             song_id  \\\n",
       "0   Monster Ballads X-Mas         0.542899  SOQMMHC12AB0180CB8   \n",
       "1             Karkuteillä         0.299877  SOVFVAK12A8C1350D9   \n",
       "2                  Butter         0.617871  SOGTUKN12AB017F4F1   \n",
       "13              The Loyal         0.463490  SOMPVQB12A8C1379BB   \n",
       "15             Lena 20 År         0.212045  SOSDCFG12AB0184647   \n",
       "\n",
       "                title  year  \n",
       "0        Silent Night  2003  \n",
       "1         Tanssi vaan  1995  \n",
       "2   No One Could Ever  2006  \n",
       "13             Pilots  2005  \n",
       "15                006  1998  "
      ]
     },
     "execution_count": 4,
     "metadata": {},
     "output_type": "execute_result"
    }
   ],
   "source": [
    "#DATA CLEANING\n",
    "df = clean(songs_df)\n",
    "df = drop_specific_cols(df)\n",
    "print(f\"Number of Columns after data cleansing: {len(df.columns)}\")\n",
    "print(f\"Number of rows after cleansing: {df.year.count()}\")\n",
    "df.head()"
   ]
  },
  {
   "cell_type": "markdown",
   "metadata": {},
   "source": [
    "# Data Exploration"
   ]
  },
  {
   "cell_type": "markdown",
   "metadata": {},
   "source": [
    "We tried exploring the data by plotting graphs showing various features of the songs and using various columns from the dataset."
   ]
  },
  {
   "cell_type": "markdown",
   "metadata": {},
   "source": [
    "The below heat map shows different features present in the dataset on both the X and Y axis of the map."
   ]
  },
  {
   "cell_type": "code",
   "execution_count": 5,
   "metadata": {},
   "outputs": [
    {
     "data": {
      "text/plain": [
       "<matplotlib.axes._subplots.AxesSubplot at 0x1b757ec65c8>"
      ]
     },
     "execution_count": 5,
     "metadata": {},
     "output_type": "execute_result"
    },
    {
     "data": {
      "image/png": "[encoded data removed]",
      "text/plain": [
       "<Figure size 504x504 with 2 Axes>"
      ]
     },
     "metadata": {
      "needs_background": "light"
     },
     "output_type": "display_data"
    }
   ],
   "source": [
    "#Data Exploration\n",
    "corr = df.corr()\n",
    "plt.figure(figsize = (7,7))\n",
    "sns.heatmap(corr)"
   ]
  },
  {
   "cell_type": "code",
   "execution_count": 6,
   "metadata": {},
   "outputs": [
    {
     "data": {
      "text/html": [
       "<div>\n",
       "<style scoped>\n",
       "    .dataframe tbody tr th:only-of-type {\n",
       "        vertical-align: middle;\n",
       "    }\n",
       "\n",
       "    .dataframe tbody tr th {\n",
       "        vertical-align: top;\n",
       "    }\n",
       "\n",
       "    .dataframe thead th {\n",
       "        text-align: right;\n",
       "    }\n",
       "</style>\n",
       "<table border=\"1\" class=\"dataframe\">\n",
       "  <thead>\n",
       "    <tr style=\"text-align: right;\">\n",
       "      <th></th>\n",
       "      <th>duration</th>\n",
       "      <th>end_of_fade_in</th>\n",
       "      <th>key</th>\n",
       "      <th>loudness</th>\n",
       "      <th>mode</th>\n",
       "      <th>start_of_fade_out</th>\n",
       "      <th>tempo</th>\n",
       "      <th>time_signature</th>\n",
       "      <th>artist_familiarity</th>\n",
       "      <th>artist_hotttnesss</th>\n",
       "      <th>song_hotttnesss</th>\n",
       "      <th>year</th>\n",
       "    </tr>\n",
       "  </thead>\n",
       "  <tbody>\n",
       "    <tr>\n",
       "      <th>count</th>\n",
       "      <td>306298.000000</td>\n",
       "      <td>306298.000000</td>\n",
       "      <td>306298.000000</td>\n",
       "      <td>306298.000000</td>\n",
       "      <td>306298.000000</td>\n",
       "      <td>306298.000000</td>\n",
       "      <td>306298.000000</td>\n",
       "      <td>306298.000000</td>\n",
       "      <td>306298.000000</td>\n",
       "      <td>306298.000000</td>\n",
       "      <td>306298.000000</td>\n",
       "      <td>306298.000000</td>\n",
       "    </tr>\n",
       "    <tr>\n",
       "      <th>mean</th>\n",
       "      <td>245.989623</td>\n",
       "      <td>0.876206</td>\n",
       "      <td>5.313675</td>\n",
       "      <td>-9.289077</td>\n",
       "      <td>0.659779</td>\n",
       "      <td>236.675818</td>\n",
       "      <td>125.457849</td>\n",
       "      <td>3.636984</td>\n",
       "      <td>0.618607</td>\n",
       "      <td>0.430780</td>\n",
       "      <td>0.487166</td>\n",
       "      <td>1999.742339</td>\n",
       "    </tr>\n",
       "    <tr>\n",
       "      <th>std</th>\n",
       "      <td>110.965065</td>\n",
       "      <td>2.833747</td>\n",
       "      <td>3.594272</td>\n",
       "      <td>4.789644</td>\n",
       "      <td>0.473784</td>\n",
       "      <td>108.672545</td>\n",
       "      <td>34.916439</td>\n",
       "      <td>1.180530</td>\n",
       "      <td>0.114854</td>\n",
       "      <td>0.095562</td>\n",
       "      <td>0.156768</td>\n",
       "      <td>9.722458</td>\n",
       "    </tr>\n",
       "    <tr>\n",
       "      <th>min</th>\n",
       "      <td>0.678730</td>\n",
       "      <td>0.000000</td>\n",
       "      <td>0.000000</td>\n",
       "      <td>-52.559000</td>\n",
       "      <td>0.000000</td>\n",
       "      <td>0.679000</td>\n",
       "      <td>0.000000</td>\n",
       "      <td>0.000000</td>\n",
       "      <td>0.000000</td>\n",
       "      <td>0.000000</td>\n",
       "      <td>0.187701</td>\n",
       "      <td>1922.000000</td>\n",
       "    </tr>\n",
       "    <tr>\n",
       "      <th>25%</th>\n",
       "      <td>185.991380</td>\n",
       "      <td>0.000000</td>\n",
       "      <td>2.000000</td>\n",
       "      <td>-11.636000</td>\n",
       "      <td>0.000000</td>\n",
       "      <td>177.946000</td>\n",
       "      <td>99.262250</td>\n",
       "      <td>4.000000</td>\n",
       "      <td>0.546981</td>\n",
       "      <td>0.376689</td>\n",
       "      <td>0.372530</td>\n",
       "      <td>1996.000000</td>\n",
       "    </tr>\n",
       "    <tr>\n",
       "      <th>50%</th>\n",
       "      <td>231.078730</td>\n",
       "      <td>0.194000</td>\n",
       "      <td>5.000000</td>\n",
       "      <td>-8.198000</td>\n",
       "      <td>1.000000</td>\n",
       "      <td>221.553000</td>\n",
       "      <td>122.631000</td>\n",
       "      <td>4.000000</td>\n",
       "      <td>0.614654</td>\n",
       "      <td>0.421589</td>\n",
       "      <td>0.485530</td>\n",
       "      <td>2003.000000</td>\n",
       "    </tr>\n",
       "    <tr>\n",
       "      <th>75%</th>\n",
       "      <td>284.551380</td>\n",
       "      <td>0.428000</td>\n",
       "      <td>9.000000</td>\n",
       "      <td>-5.852000</td>\n",
       "      <td>1.000000</td>\n",
       "      <td>273.874000</td>\n",
       "      <td>146.489000</td>\n",
       "      <td>4.000000</td>\n",
       "      <td>0.691134</td>\n",
       "      <td>0.480575</td>\n",
       "      <td>0.597641</td>\n",
       "      <td>2007.000000</td>\n",
       "    </tr>\n",
       "    <tr>\n",
       "      <th>max</th>\n",
       "      <td>3007.738320</td>\n",
       "      <td>358.214000</td>\n",
       "      <td>11.000000</td>\n",
       "      <td>3.966000</td>\n",
       "      <td>1.000000</td>\n",
       "      <td>3007.738000</td>\n",
       "      <td>280.955000</td>\n",
       "      <td>7.000000</td>\n",
       "      <td>1.000000</td>\n",
       "      <td>1.082503</td>\n",
       "      <td>1.000000</td>\n",
       "      <td>2011.000000</td>\n",
       "    </tr>\n",
       "  </tbody>\n",
       "</table>\n",
       "</div>"
      ],
      "text/plain": [
       "            duration  end_of_fade_in            key       loudness  \\\n",
       "count  306298.000000   306298.000000  306298.000000  306298.000000   \n",
       "mean      245.989623        0.876206       5.313675      -9.289077   \n",
       "std       110.965065        2.833747       3.594272       4.789644   \n",
       "min         0.678730        0.000000       0.000000     -52.559000   \n",
       "25%       185.991380        0.000000       2.000000     -11.636000   \n",
       "50%       231.078730        0.194000       5.000000      -8.198000   \n",
       "75%       284.551380        0.428000       9.000000      -5.852000   \n",
       "max      3007.738320      358.214000      11.000000       3.966000   \n",
       "\n",
       "                mode  start_of_fade_out          tempo  time_signature  \\\n",
       "count  306298.000000      306298.000000  306298.000000   306298.000000   \n",
       "mean        0.659779         236.675818     125.457849        3.636984   \n",
       "std         0.473784         108.672545      34.916439        1.180530   \n",
       "min         0.000000           0.679000       0.000000        0.000000   \n",
       "25%         0.000000         177.946000      99.262250        4.000000   \n",
       "50%         1.000000         221.553000     122.631000        4.000000   \n",
       "75%         1.000000         273.874000     146.489000        4.000000   \n",
       "max         1.000000        3007.738000     280.955000        7.000000   \n",
       "\n",
       "       artist_familiarity  artist_hotttnesss  song_hotttnesss           year  \n",
       "count       306298.000000      306298.000000    306298.000000  306298.000000  \n",
       "mean             0.618607           0.430780         0.487166    1999.742339  \n",
       "std              0.114854           0.095562         0.156768       9.722458  \n",
       "min              0.000000           0.000000         0.187701    1922.000000  \n",
       "25%              0.546981           0.376689         0.372530    1996.000000  \n",
       "50%              0.614654           0.421589         0.485530    2003.000000  \n",
       "75%              0.691134           0.480575         0.597641    2007.000000  \n",
       "max              1.000000           1.082503         1.000000    2011.000000  "
      ]
     },
     "execution_count": 6,
     "metadata": {},
     "output_type": "execute_result"
    }
   ],
   "source": [
    "df.describe()"
   ]
  },
  {
   "cell_type": "code",
   "execution_count": 7,
   "metadata": {},
   "outputs": [
    {
     "data": {
      "text/plain": [
       "<matplotlib.axes._subplots.AxesSubplot at 0x1b77c0cf9c8>"
      ]
     },
     "execution_count": 7,
     "metadata": {},
     "output_type": "execute_result"
    },
    {
     "data": {
      "image/png": "[encoded data removed]",
      "text/plain": [
       "<Figure size 432x288 with 1 Axes>"
      ]
     },
     "metadata": {
      "needs_background": "light"
     },
     "output_type": "display_data"
    },
    {
     "data": {
      "image/png": "[encoded data removed]",
      "text/plain": [
       "<Figure size 432x288 with 1 Axes>"
      ]
     },
     "metadata": {
      "needs_background": "light"
     },
     "output_type": "display_data"
    },
    {
     "data": {
      "image/png": "[encoded data removed]",
      "text/plain": [
       "<Figure size 432x288 with 1 Axes>"
      ]
     },
     "metadata": {
      "needs_background": "light"
     },
     "output_type": "display_data"
    }
   ],
   "source": [
    "agg_df = df.groupby(df.year).mean().reset_index()\n",
    "agg_df.plot(x='year',y='tempo')\n",
    "\n",
    "agg_df.plot(x='year',y='duration')\n",
    "\n",
    "agg_df.plot(x='year',y='loudness')"
   ]
  },
  {
   "cell_type": "markdown",
   "metadata": {},
   "source": [
    "From these charts, we were able to get an idea of how volatile different sound metrics were over the years. \n",
    "Through feature engineering, we created a variable called isPopular. With this variable, we labeled songs as “popular” if they were higher than the mean song hotness. Below is some data based on songs that were popular songs. \n",
    "\n",
    "Song Popularity distribution = 1\n"
   ]
  },
  {
   "cell_type": "markdown",
   "metadata": {},
   "source": [
    "The below graph is a histogram which represents the number of songs released over the years."
   ]
  },
  {
   "cell_type": "code",
   "execution_count": 8,
   "metadata": {},
   "outputs": [
    {
     "data": {
      "text/plain": [
       "array([[<matplotlib.axes._subplots.AxesSubplot object at 0x000001B73E98F588>]],\n",
       "      dtype=object)"
      ]
     },
     "execution_count": 8,
     "metadata": {},
     "output_type": "execute_result"
    },
    {
     "data": {
      "image/png": "[encoded data removed]",
      "text/plain": [
       "<Figure size 432x288 with 1 Axes>"
      ]
     },
     "metadata": {
      "needs_background": "light"
     },
     "output_type": "display_data"
    }
   ],
   "source": [
    "bins = range(1920,2020,10)\n",
    "df.hist(column='year',bins = bins)"
   ]
  },
  {
   "cell_type": "markdown",
   "metadata": {},
   "source": [
    "The mean of song hotness is calculated, which is 0.487166. Using this mean we create another column called 'isPopular' column which is 1 if the song hotness is greater the mean and if the song hotness id lesser than the mean then the value is kept as 0. Thus, this column uses the mean of the song hotness as a threshold. Later the dataset is filtered with only those values which has the 'isPopular' value as one."
   ]
  },
  {
   "cell_type": "code",
   "execution_count": 9,
   "metadata": {},
   "outputs": [],
   "source": [
    "#Creating a new feature called isPopular based on if the song hotness is above mean or not\n",
    "song_hotness_mean = df.song_hotttnesss.mean()#0.487166\n",
    "threshold = song_hotness_mean\n",
    "df['isPopular'] = 0\n",
    "df.loc[(df.song_hotttnesss>threshold), 'isPopular']  = 1"
   ]
  },
  {
   "cell_type": "code",
   "execution_count": 10,
   "metadata": {},
   "outputs": [
    {
     "data": {
      "text/html": [
       "<div>\n",
       "<style scoped>\n",
       "    .dataframe tbody tr th:only-of-type {\n",
       "        vertical-align: middle;\n",
       "    }\n",
       "\n",
       "    .dataframe tbody tr th {\n",
       "        vertical-align: top;\n",
       "    }\n",
       "\n",
       "    .dataframe thead th {\n",
       "        text-align: right;\n",
       "    }\n",
       "</style>\n",
       "<table border=\"1\" class=\"dataframe\">\n",
       "  <thead>\n",
       "    <tr style=\"text-align: right;\">\n",
       "      <th></th>\n",
       "      <th>song_id</th>\n",
       "      <th>isPopular</th>\n",
       "    </tr>\n",
       "  </thead>\n",
       "  <tbody>\n",
       "    <tr>\n",
       "      <th>0</th>\n",
       "      <td>SOQMMHC12AB0180CB8</td>\n",
       "      <td>1</td>\n",
       "    </tr>\n",
       "    <tr>\n",
       "      <th>2</th>\n",
       "      <td>SOGTUKN12AB017F4F1</td>\n",
       "      <td>1</td>\n",
       "    </tr>\n",
       "    <tr>\n",
       "      <th>17</th>\n",
       "      <td>SOKOVRQ12A8C142811</td>\n",
       "      <td>1</td>\n",
       "    </tr>\n",
       "    <tr>\n",
       "      <th>18</th>\n",
       "      <td>SOIMMJJ12AF72AD643</td>\n",
       "      <td>1</td>\n",
       "    </tr>\n",
       "    <tr>\n",
       "      <th>33</th>\n",
       "      <td>SOOLRHW12A8C142643</td>\n",
       "      <td>1</td>\n",
       "    </tr>\n",
       "    <tr>\n",
       "      <th>...</th>\n",
       "      <td>...</td>\n",
       "      <td>...</td>\n",
       "    </tr>\n",
       "    <tr>\n",
       "      <th>999971</th>\n",
       "      <td>SOQVXTX12AB017F110</td>\n",
       "      <td>1</td>\n",
       "    </tr>\n",
       "    <tr>\n",
       "      <th>999973</th>\n",
       "      <td>SOIQVTG12AC468E9C0</td>\n",
       "      <td>1</td>\n",
       "    </tr>\n",
       "    <tr>\n",
       "      <th>999990</th>\n",
       "      <td>SOFAXZU12AB01881C4</td>\n",
       "      <td>1</td>\n",
       "    </tr>\n",
       "    <tr>\n",
       "      <th>999992</th>\n",
       "      <td>SOBODSE12A8C13EBD6</td>\n",
       "      <td>1</td>\n",
       "    </tr>\n",
       "    <tr>\n",
       "      <th>999999</th>\n",
       "      <td>SOWXJXQ12AB0189F43</td>\n",
       "      <td>1</td>\n",
       "    </tr>\n",
       "  </tbody>\n",
       "</table>\n",
       "<p>152065 rows × 2 columns</p>\n",
       "</div>"
      ],
      "text/plain": [
       "                   song_id  isPopular\n",
       "0       SOQMMHC12AB0180CB8          1\n",
       "2       SOGTUKN12AB017F4F1          1\n",
       "17      SOKOVRQ12A8C142811          1\n",
       "18      SOIMMJJ12AF72AD643          1\n",
       "33      SOOLRHW12A8C142643          1\n",
       "...                    ...        ...\n",
       "999971  SOQVXTX12AB017F110          1\n",
       "999973  SOIQVTG12AC468E9C0          1\n",
       "999990  SOFAXZU12AB01881C4          1\n",
       "999992  SOBODSE12A8C13EBD6          1\n",
       "999999  SOWXJXQ12AB0189F43          1\n",
       "\n",
       "[152065 rows x 2 columns]"
      ]
     },
     "execution_count": 10,
     "metadata": {},
     "output_type": "execute_result"
    }
   ],
   "source": [
    "df.loc[df.song_hotttnesss>threshold, ['song_id', 'isPopular']]"
   ]
  },
  {
   "cell_type": "code",
   "execution_count": 11,
   "metadata": {},
   "outputs": [
    {
     "data": {
      "text/html": [
       "<div>\n",
       "<style scoped>\n",
       "    .dataframe tbody tr th:only-of-type {\n",
       "        vertical-align: middle;\n",
       "    }\n",
       "\n",
       "    .dataframe tbody tr th {\n",
       "        vertical-align: top;\n",
       "    }\n",
       "\n",
       "    .dataframe thead th {\n",
       "        text-align: right;\n",
       "    }\n",
       "</style>\n",
       "<table border=\"1\" class=\"dataframe\">\n",
       "  <thead>\n",
       "    <tr style=\"text-align: right;\">\n",
       "      <th></th>\n",
       "      <th>duration</th>\n",
       "      <th>end_of_fade_in</th>\n",
       "      <th>key</th>\n",
       "      <th>loudness</th>\n",
       "      <th>mode</th>\n",
       "      <th>start_of_fade_out</th>\n",
       "      <th>tempo</th>\n",
       "      <th>time_signature</th>\n",
       "      <th>track_id</th>\n",
       "      <th>artist_familiarity</th>\n",
       "      <th>artist_hotttnesss</th>\n",
       "      <th>artist_id</th>\n",
       "      <th>artist_mbid</th>\n",
       "      <th>artist_name</th>\n",
       "      <th>release</th>\n",
       "      <th>song_hotttnesss</th>\n",
       "      <th>song_id</th>\n",
       "      <th>title</th>\n",
       "      <th>year</th>\n",
       "      <th>isPopular</th>\n",
       "    </tr>\n",
       "  </thead>\n",
       "  <tbody>\n",
       "    <tr>\n",
       "      <th>1</th>\n",
       "      <td>156.55138</td>\n",
       "      <td>0.258</td>\n",
       "      <td>9</td>\n",
       "      <td>-10.555</td>\n",
       "      <td>1</td>\n",
       "      <td>148.660</td>\n",
       "      <td>150.778</td>\n",
       "      <td>1</td>\n",
       "      <td>TRMMMKD128F425225D</td>\n",
       "      <td>0.439604</td>\n",
       "      <td>0.356992</td>\n",
       "      <td>ARMVN3U1187FB3A1EB</td>\n",
       "      <td>8d7ef530-a6fd-4f8f-b2e2-74aec765e0f9</td>\n",
       "      <td>Karkkiautomaatti</td>\n",
       "      <td>Karkuteillä</td>\n",
       "      <td>0.299877</td>\n",
       "      <td>SOVFVAK12A8C1350D9</td>\n",
       "      <td>Tanssi vaan</td>\n",
       "      <td>1995</td>\n",
       "      <td>0</td>\n",
       "    </tr>\n",
       "    <tr>\n",
       "      <th>13</th>\n",
       "      <td>318.45832</td>\n",
       "      <td>0.502</td>\n",
       "      <td>10</td>\n",
       "      <td>-10.670</td>\n",
       "      <td>1</td>\n",
       "      <td>306.265</td>\n",
       "      <td>67.567</td>\n",
       "      <td>3</td>\n",
       "      <td>TRMMMBW128F4260CAE</td>\n",
       "      <td>0.621826</td>\n",
       "      <td>0.406985</td>\n",
       "      <td>AREMPER1187B9AEB42</td>\n",
       "      <td>14efbb08-c3d8-404c-9ead-ad71fa586ee6</td>\n",
       "      <td>Tiger Lou</td>\n",
       "      <td>The Loyal</td>\n",
       "      <td>0.463490</td>\n",
       "      <td>SOMPVQB12A8C1379BB</td>\n",
       "      <td>Pilots</td>\n",
       "      <td>2005</td>\n",
       "      <td>0</td>\n",
       "    </tr>\n",
       "    <tr>\n",
       "      <th>15</th>\n",
       "      <td>262.26893</td>\n",
       "      <td>0.194</td>\n",
       "      <td>11</td>\n",
       "      <td>-3.925</td>\n",
       "      <td>1</td>\n",
       "      <td>259.419</td>\n",
       "      <td>122.332</td>\n",
       "      <td>4</td>\n",
       "      <td>TRMMMKI128F931D80D</td>\n",
       "      <td>0.529819</td>\n",
       "      <td>0.410229</td>\n",
       "      <td>ARSB5591187B99A848</td>\n",
       "      <td>fba3e876-68f1-4a1f-99d9-c604480202ba</td>\n",
       "      <td>Lena Philipsson</td>\n",
       "      <td>Lena 20 År</td>\n",
       "      <td>0.212045</td>\n",
       "      <td>SOSDCFG12AB0184647</td>\n",
       "      <td>006</td>\n",
       "      <td>1998</td>\n",
       "      <td>0</td>\n",
       "    </tr>\n",
       "    <tr>\n",
       "      <th>16</th>\n",
       "      <td>216.47628</td>\n",
       "      <td>2.032</td>\n",
       "      <td>6</td>\n",
       "      <td>-14.379</td>\n",
       "      <td>1</td>\n",
       "      <td>208.062</td>\n",
       "      <td>99.214</td>\n",
       "      <td>4</td>\n",
       "      <td>TRMMMUT128F42646E8</td>\n",
       "      <td>0.685503</td>\n",
       "      <td>0.446733</td>\n",
       "      <td>ARDW5AW1187FB55708</td>\n",
       "      <td>42222090-c5e5-4243-8582-c29bc8b63ec6</td>\n",
       "      <td>Shawn Colvin</td>\n",
       "      <td>Cover Girl</td>\n",
       "      <td>0.270776</td>\n",
       "      <td>SOBARPM12A8C133DFF</td>\n",
       "      <td>(Looking For) The Heart Of Saturday</td>\n",
       "      <td>1994</td>\n",
       "      <td>0</td>\n",
       "    </tr>\n",
       "    <tr>\n",
       "      <th>27</th>\n",
       "      <td>210.93832</td>\n",
       "      <td>0.247</td>\n",
       "      <td>1</td>\n",
       "      <td>-7.664</td>\n",
       "      <td>1</td>\n",
       "      <td>210.938</td>\n",
       "      <td>207.903</td>\n",
       "      <td>4</td>\n",
       "      <td>TRMMMKD12903CF219E</td>\n",
       "      <td>0.729867</td>\n",
       "      <td>0.417882</td>\n",
       "      <td>AREH0O41187FB4C405</td>\n",
       "      <td>83e32d32-fee5-45de-a4b6-b49956a069eb</td>\n",
       "      <td>Skinlab</td>\n",
       "      <td>Nerve Damage</td>\n",
       "      <td>0.224820</td>\n",
       "      <td>SOWUMAZ12A67ADE769</td>\n",
       "      <td>Take As Needed</td>\n",
       "      <td>2002</td>\n",
       "      <td>0</td>\n",
       "    </tr>\n",
       "    <tr>\n",
       "      <th>...</th>\n",
       "      <td>...</td>\n",
       "      <td>...</td>\n",
       "      <td>...</td>\n",
       "      <td>...</td>\n",
       "      <td>...</td>\n",
       "      <td>...</td>\n",
       "      <td>...</td>\n",
       "      <td>...</td>\n",
       "      <td>...</td>\n",
       "      <td>...</td>\n",
       "      <td>...</td>\n",
       "      <td>...</td>\n",
       "      <td>...</td>\n",
       "      <td>...</td>\n",
       "      <td>...</td>\n",
       "      <td>...</td>\n",
       "      <td>...</td>\n",
       "      <td>...</td>\n",
       "      <td>...</td>\n",
       "      <td>...</td>\n",
       "    </tr>\n",
       "    <tr>\n",
       "      <th>999972</th>\n",
       "      <td>561.18812</td>\n",
       "      <td>6.113</td>\n",
       "      <td>4</td>\n",
       "      <td>-20.353</td>\n",
       "      <td>0</td>\n",
       "      <td>545.483</td>\n",
       "      <td>95.391</td>\n",
       "      <td>4</td>\n",
       "      <td>TRYYYJZ128F424BFA1</td>\n",
       "      <td>0.771815</td>\n",
       "      <td>0.547589</td>\n",
       "      <td>ARNLVQB1187B9AEAB0</td>\n",
       "      <td>e57f0cac-4f56-473c-8d7e-d93f753fd586</td>\n",
       "      <td>Steve Miller Band</td>\n",
       "      <td>Rock Love</td>\n",
       "      <td>0.259943</td>\n",
       "      <td>SOJYTFC12A6D4FD812</td>\n",
       "      <td>Deliverance</td>\n",
       "      <td>1971</td>\n",
       "      <td>0</td>\n",
       "    </tr>\n",
       "    <tr>\n",
       "      <th>999977</th>\n",
       "      <td>218.56608</td>\n",
       "      <td>0.062</td>\n",
       "      <td>6</td>\n",
       "      <td>-9.823</td>\n",
       "      <td>0</td>\n",
       "      <td>212.027</td>\n",
       "      <td>120.018</td>\n",
       "      <td>4</td>\n",
       "      <td>TRYYYLV128F14AFD76</td>\n",
       "      <td>0.496291</td>\n",
       "      <td>0.338061</td>\n",
       "      <td>ARI9UV41187B98AB58</td>\n",
       "      <td>05498d7c-5bd0-40fa-aabf-a39f34efba5c</td>\n",
       "      <td>Kreidler</td>\n",
       "      <td>Eve Future</td>\n",
       "      <td>0.215080</td>\n",
       "      <td>SOYCIHR12A6D4FBC6A</td>\n",
       "      <td>Reflectuum</td>\n",
       "      <td>2002</td>\n",
       "      <td>0</td>\n",
       "    </tr>\n",
       "    <tr>\n",
       "      <th>999979</th>\n",
       "      <td>462.26240</td>\n",
       "      <td>0.000</td>\n",
       "      <td>3</td>\n",
       "      <td>-6.673</td>\n",
       "      <td>0</td>\n",
       "      <td>451.466</td>\n",
       "      <td>144.102</td>\n",
       "      <td>4</td>\n",
       "      <td>TRYYYFV128F4277D53</td>\n",
       "      <td>0.657696</td>\n",
       "      <td>0.537043</td>\n",
       "      <td>ARH65291187B989DB5</td>\n",
       "      <td>250c38d6-0353-4c22-a371-f305d908573c</td>\n",
       "      <td>Starflyer 59</td>\n",
       "      <td>The Fashion Focus</td>\n",
       "      <td>0.427583</td>\n",
       "      <td>SOHYZUP12B0B8064C3</td>\n",
       "      <td>Too Much Fun</td>\n",
       "      <td>1998</td>\n",
       "      <td>0</td>\n",
       "    </tr>\n",
       "    <tr>\n",
       "      <th>999984</th>\n",
       "      <td>88.45016</td>\n",
       "      <td>5.608</td>\n",
       "      <td>9</td>\n",
       "      <td>-17.182</td>\n",
       "      <td>0</td>\n",
       "      <td>88.450</td>\n",
       "      <td>93.804</td>\n",
       "      <td>3</td>\n",
       "      <td>TRYYYOU128F426B209</td>\n",
       "      <td>0.560206</td>\n",
       "      <td>0.376075</td>\n",
       "      <td>ARHHIW21187FB5BD76</td>\n",
       "      <td>92ff6a4e-7070-4ddc-a62f-da9833aa236a</td>\n",
       "      <td>Coronatus</td>\n",
       "      <td>Lux Noctis</td>\n",
       "      <td>0.450762</td>\n",
       "      <td>SOIQNVK12A8C13B061</td>\n",
       "      <td>Interrotte Speranze</td>\n",
       "      <td>2007</td>\n",
       "      <td>0</td>\n",
       "    </tr>\n",
       "    <tr>\n",
       "      <th>999991</th>\n",
       "      <td>258.76853</td>\n",
       "      <td>0.287</td>\n",
       "      <td>4</td>\n",
       "      <td>-9.188</td>\n",
       "      <td>0</td>\n",
       "      <td>251.315</td>\n",
       "      <td>80.364</td>\n",
       "      <td>3</td>\n",
       "      <td>TRYYYLF128E0789A44</td>\n",
       "      <td>0.586555</td>\n",
       "      <td>0.340153</td>\n",
       "      <td>ARCFNAM1187B99424A</td>\n",
       "      <td>f304492a-0318-4806-b5f6-dd69dc020460</td>\n",
       "      <td>Bah Samba</td>\n",
       "      <td>Four</td>\n",
       "      <td>0.372530</td>\n",
       "      <td>SOYFFWW12A6701C135</td>\n",
       "      <td>So Many People</td>\n",
       "      <td>2002</td>\n",
       "      <td>0</td>\n",
       "    </tr>\n",
       "  </tbody>\n",
       "</table>\n",
       "<p>154233 rows × 20 columns</p>\n",
       "</div>"
      ],
      "text/plain": [
       "         duration  end_of_fade_in  key  loudness  mode  start_of_fade_out  \\\n",
       "1       156.55138           0.258    9   -10.555     1            148.660   \n",
       "13      318.45832           0.502   10   -10.670     1            306.265   \n",
       "15      262.26893           0.194   11    -3.925     1            259.419   \n",
       "16      216.47628           2.032    6   -14.379     1            208.062   \n",
       "27      210.93832           0.247    1    -7.664     1            210.938   \n",
       "...           ...             ...  ...       ...   ...                ...   \n",
       "999972  561.18812           6.113    4   -20.353     0            545.483   \n",
       "999977  218.56608           0.062    6    -9.823     0            212.027   \n",
       "999979  462.26240           0.000    3    -6.673     0            451.466   \n",
       "999984   88.45016           5.608    9   -17.182     0             88.450   \n",
       "999991  258.76853           0.287    4    -9.188     0            251.315   \n",
       "\n",
       "          tempo  time_signature            track_id  artist_familiarity  \\\n",
       "1       150.778               1  TRMMMKD128F425225D            0.439604   \n",
       "13       67.567               3  TRMMMBW128F4260CAE            0.621826   \n",
       "15      122.332               4  TRMMMKI128F931D80D            0.529819   \n",
       "16       99.214               4  TRMMMUT128F42646E8            0.685503   \n",
       "27      207.903               4  TRMMMKD12903CF219E            0.729867   \n",
       "...         ...             ...                 ...                 ...   \n",
       "999972   95.391               4  TRYYYJZ128F424BFA1            0.771815   \n",
       "999977  120.018               4  TRYYYLV128F14AFD76            0.496291   \n",
       "999979  144.102               4  TRYYYFV128F4277D53            0.657696   \n",
       "999984   93.804               3  TRYYYOU128F426B209            0.560206   \n",
       "999991   80.364               3  TRYYYLF128E0789A44            0.586555   \n",
       "\n",
       "        artist_hotttnesss           artist_id  \\\n",
       "1                0.356992  ARMVN3U1187FB3A1EB   \n",
       "13               0.406985  AREMPER1187B9AEB42   \n",
       "15               0.410229  ARSB5591187B99A848   \n",
       "16               0.446733  ARDW5AW1187FB55708   \n",
       "27               0.417882  AREH0O41187FB4C405   \n",
       "...                   ...                 ...   \n",
       "999972           0.547589  ARNLVQB1187B9AEAB0   \n",
       "999977           0.338061  ARI9UV41187B98AB58   \n",
       "999979           0.537043  ARH65291187B989DB5   \n",
       "999984           0.376075  ARHHIW21187FB5BD76   \n",
       "999991           0.340153  ARCFNAM1187B99424A   \n",
       "\n",
       "                                 artist_mbid        artist_name  \\\n",
       "1       8d7ef530-a6fd-4f8f-b2e2-74aec765e0f9   Karkkiautomaatti   \n",
       "13      14efbb08-c3d8-404c-9ead-ad71fa586ee6          Tiger Lou   \n",
       "15      fba3e876-68f1-4a1f-99d9-c604480202ba    Lena Philipsson   \n",
       "16      42222090-c5e5-4243-8582-c29bc8b63ec6       Shawn Colvin   \n",
       "27      83e32d32-fee5-45de-a4b6-b49956a069eb            Skinlab   \n",
       "...                                      ...                ...   \n",
       "999972  e57f0cac-4f56-473c-8d7e-d93f753fd586  Steve Miller Band   \n",
       "999977  05498d7c-5bd0-40fa-aabf-a39f34efba5c           Kreidler   \n",
       "999979  250c38d6-0353-4c22-a371-f305d908573c       Starflyer 59   \n",
       "999984  92ff6a4e-7070-4ddc-a62f-da9833aa236a          Coronatus   \n",
       "999991  f304492a-0318-4806-b5f6-dd69dc020460          Bah Samba   \n",
       "\n",
       "                  release  song_hotttnesss             song_id  \\\n",
       "1             Karkuteillä         0.299877  SOVFVAK12A8C1350D9   \n",
       "13              The Loyal         0.463490  SOMPVQB12A8C1379BB   \n",
       "15             Lena 20 År         0.212045  SOSDCFG12AB0184647   \n",
       "16             Cover Girl         0.270776  SOBARPM12A8C133DFF   \n",
       "27           Nerve Damage         0.224820  SOWUMAZ12A67ADE769   \n",
       "...                   ...              ...                 ...   \n",
       "999972          Rock Love         0.259943  SOJYTFC12A6D4FD812   \n",
       "999977         Eve Future         0.215080  SOYCIHR12A6D4FBC6A   \n",
       "999979  The Fashion Focus         0.427583  SOHYZUP12B0B8064C3   \n",
       "999984         Lux Noctis         0.450762  SOIQNVK12A8C13B061   \n",
       "999991               Four         0.372530  SOYFFWW12A6701C135   \n",
       "\n",
       "                                      title  year  isPopular  \n",
       "1                               Tanssi vaan  1995          0  \n",
       "13                                   Pilots  2005          0  \n",
       "15                                      006  1998          0  \n",
       "16      (Looking For) The Heart Of Saturday  1994          0  \n",
       "27                           Take As Needed  2002          0  \n",
       "...                                     ...   ...        ...  \n",
       "999972                          Deliverance  1971          0  \n",
       "999977                           Reflectuum  2002          0  \n",
       "999979                         Too Much Fun  1998          0  \n",
       "999984                  Interrotte Speranze  2007          0  \n",
       "999991                       So Many People  2002          0  \n",
       "\n",
       "[154233 rows x 20 columns]"
      ]
     },
     "execution_count": 11,
     "metadata": {},
     "output_type": "execute_result"
    }
   ],
   "source": [
    "df[df.song_hotttnesss<threshold]"
   ]
  },
  {
   "cell_type": "markdown",
   "metadata": {},
   "source": [
    "The dataset containing the most popluar songs is as follows:"
   ]
  },
  {
   "cell_type": "code",
   "execution_count": 12,
   "metadata": {},
   "outputs": [
    {
     "data": {
      "text/html": [
       "<div>\n",
       "<style scoped>\n",
       "    .dataframe tbody tr th:only-of-type {\n",
       "        vertical-align: middle;\n",
       "    }\n",
       "\n",
       "    .dataframe tbody tr th {\n",
       "        vertical-align: top;\n",
       "    }\n",
       "\n",
       "    .dataframe thead th {\n",
       "        text-align: right;\n",
       "    }\n",
       "</style>\n",
       "<table border=\"1\" class=\"dataframe\">\n",
       "  <thead>\n",
       "    <tr style=\"text-align: right;\">\n",
       "      <th></th>\n",
       "      <th>title</th>\n",
       "      <th>artist_name</th>\n",
       "      <th>release</th>\n",
       "      <th>song_hotttnesss</th>\n",
       "      <th>year</th>\n",
       "    </tr>\n",
       "  </thead>\n",
       "  <tbody>\n",
       "    <tr>\n",
       "      <th>69427</th>\n",
       "      <td>If We Ever Meet Again</td>\n",
       "      <td>Timbaland / Katy Perry</td>\n",
       "      <td>If We Ever Meet Again (Featuring Katy Perry)</td>\n",
       "      <td>1.0</td>\n",
       "      <td>2010</td>\n",
       "    </tr>\n",
       "    <tr>\n",
       "      <th>78108</th>\n",
       "      <td>Alice</td>\n",
       "      <td>Avril Lavigne</td>\n",
       "      <td>Almost Alice</td>\n",
       "      <td>1.0</td>\n",
       "      <td>2010</td>\n",
       "    </tr>\n",
       "    <tr>\n",
       "      <th>85836</th>\n",
       "      <td>Cooler Than Me</td>\n",
       "      <td>Mike Posner</td>\n",
       "      <td>Cooler Than Me</td>\n",
       "      <td>1.0</td>\n",
       "      <td>2010</td>\n",
       "    </tr>\n",
       "    <tr>\n",
       "      <th>196742</th>\n",
       "      <td>Somebody To Love</td>\n",
       "      <td>Justin Bieber</td>\n",
       "      <td>My Worlds</td>\n",
       "      <td>1.0</td>\n",
       "      <td>2010</td>\n",
       "    </tr>\n",
       "    <tr>\n",
       "      <th>332746</th>\n",
       "      <td>Holiday</td>\n",
       "      <td>Vampire Weekend</td>\n",
       "      <td>Contra</td>\n",
       "      <td>1.0</td>\n",
       "      <td>2010</td>\n",
       "    </tr>\n",
       "    <tr>\n",
       "      <th>424919</th>\n",
       "      <td>Nothin' On You [feat. Bruno Mars] (Album Version)</td>\n",
       "      <td>B.o.B</td>\n",
       "      <td>B.o.B Presents: The Adventures of Bobby Ray</td>\n",
       "      <td>1.0</td>\n",
       "      <td>2010</td>\n",
       "    </tr>\n",
       "    <tr>\n",
       "      <th>711682</th>\n",
       "      <td>Somebody To Love</td>\n",
       "      <td>Justin Bieber</td>\n",
       "      <td>My World 2.0</td>\n",
       "      <td>1.0</td>\n",
       "      <td>2010</td>\n",
       "    </tr>\n",
       "    <tr>\n",
       "      <th>712993</th>\n",
       "      <td>Odessa</td>\n",
       "      <td>Caribou</td>\n",
       "      <td>Odessa</td>\n",
       "      <td>1.0</td>\n",
       "      <td>2010</td>\n",
       "    </tr>\n",
       "    <tr>\n",
       "      <th>746866</th>\n",
       "      <td>Alice</td>\n",
       "      <td>Avril Lavigne</td>\n",
       "      <td>Alice</td>\n",
       "      <td>1.0</td>\n",
       "      <td>2010</td>\n",
       "    </tr>\n",
       "    <tr>\n",
       "      <th>828866</th>\n",
       "      <td>Tighten Up</td>\n",
       "      <td>The Black Keys</td>\n",
       "      <td>Tighten Up</td>\n",
       "      <td>1.0</td>\n",
       "      <td>2010</td>\n",
       "    </tr>\n",
       "  </tbody>\n",
       "</table>\n",
       "</div>"
      ],
      "text/plain": [
       "                                                    title  \\\n",
       "69427                               If We Ever Meet Again   \n",
       "78108                                               Alice   \n",
       "85836                                      Cooler Than Me   \n",
       "196742                                   Somebody To Love   \n",
       "332746                                            Holiday   \n",
       "424919  Nothin' On You [feat. Bruno Mars] (Album Version)   \n",
       "711682                                   Somebody To Love   \n",
       "712993                                             Odessa   \n",
       "746866                                              Alice   \n",
       "828866                                         Tighten Up   \n",
       "\n",
       "                   artist_name                                       release  \\\n",
       "69427   Timbaland / Katy Perry  If We Ever Meet Again (Featuring Katy Perry)   \n",
       "78108            Avril Lavigne                                  Almost Alice   \n",
       "85836              Mike Posner                                Cooler Than Me   \n",
       "196742           Justin Bieber                                     My Worlds   \n",
       "332746         Vampire Weekend                                        Contra   \n",
       "424919                   B.o.B   B.o.B Presents: The Adventures of Bobby Ray   \n",
       "711682           Justin Bieber                                  My World 2.0   \n",
       "712993                 Caribou                                        Odessa   \n",
       "746866           Avril Lavigne                                         Alice   \n",
       "828866          The Black Keys                                    Tighten Up   \n",
       "\n",
       "        song_hotttnesss  year  \n",
       "69427               1.0  2010  \n",
       "78108               1.0  2010  \n",
       "85836               1.0  2010  \n",
       "196742              1.0  2010  \n",
       "332746              1.0  2010  \n",
       "424919              1.0  2010  \n",
       "711682              1.0  2010  \n",
       "712993              1.0  2010  \n",
       "746866              1.0  2010  \n",
       "828866              1.0  2010  "
      ]
     },
     "execution_count": 12,
     "metadata": {},
     "output_type": "execute_result"
    }
   ],
   "source": [
    "#Most Popular Songs\n",
    "df.sort_values(by=['song_hotttnesss','year'],ascending=False)[['title','artist_name','release','song_hotttnesss','year']].head(10)"
   ]
  },
  {
   "cell_type": "markdown",
   "metadata": {},
   "source": [
    "The features of the dataset are still too many to work with. Thus, the song features still need to be further filtered to get a proper results. This can be done using any of the machine learning algorithm. We chose random forest regression method as it gave the best results when compared to decision tree or other methods."
   ]
  },
  {
   "cell_type": "code",
   "execution_count": 13,
   "metadata": {},
   "outputs": [
    {
     "data": {
      "text/plain": [
       "RandomForestRegressor(max_depth=40, n_estimators=10)"
      ]
     },
     "execution_count": 13,
     "metadata": {},
     "output_type": "execute_result"
    }
   ],
   "source": [
    "#Feature Importance and Reduction\n",
    "\n",
    "from sklearn.ensemble import RandomForestRegressor\n",
    "X = df.drop(['song_hotttnesss','year','isPopular'],axis=1)\n",
    "X = X.select_dtypes(exclude=[object])\n",
    "Y = df['song_hotttnesss'].values\n",
    "\n",
    "model = RandomForestRegressor(n_estimators=10,max_depth=40)\n",
    "model.fit(X,Y)"
   ]
  },
  {
   "cell_type": "markdown",
   "metadata": {},
   "source": [
    "After the random forest regression is applied the features are reduced to the top ten features of the dataset, to get maximum accuracy for the machine learning model. After the feature filtering is done the dataset is now ready to be applied for the machine learning model. The top features selected from the dataset are as displayed below."
   ]
  },
  {
   "cell_type": "code",
   "execution_count": 14,
   "metadata": {},
   "outputs": [
    {
     "data": {
      "text/plain": [
       "<matplotlib.axes._subplots.AxesSubplot at 0x1b704589708>"
      ]
     },
     "execution_count": 14,
     "metadata": {},
     "output_type": "execute_result"
    },
    {
     "data": {
      "image/png": "[encoded data removed]",
      "text/plain": [
       "<Figure size 432x288 with 1 Axes>"
      ]
     },
     "metadata": {
      "needs_background": "light"
     },
     "output_type": "display_data"
    }
   ],
   "source": [
    "features = X.columns\n",
    "feature_importances = model.feature_importances_\n",
    "\n",
    "features_df = pd.DataFrame({'Features': features, 'Importance Score': feature_importances})\n",
    "features_df.sort_values('Importance Score', inplace=True, ascending=False)\n",
    "\n",
    "features_df.plot(x='Features',y='Importance Score',kind='bar')"
   ]
  },
  {
   "cell_type": "markdown",
   "metadata": {},
   "source": [
    "### Model Selection"
   ]
  },
  {
   "cell_type": "markdown",
   "metadata": {},
   "source": [
    "After feature filtering we performed various machine learning models on the dataset to predict if the given song is popular or not. Many machine learning models have been used to finally select a machine learning model which gives the hightest accuracy according to the given dataset."
   ]
  },
  {
   "cell_type": "markdown",
   "metadata": {},
   "source": [
    "The complete dataset was split into two parts, training datset and testing dataset. The training dataset consisted of 70% of the complete dataset while the test dataset consisted of the remaining 30% of the dataset."
   ]
  },
  {
   "cell_type": "markdown",
   "metadata": {},
   "source": [
    "#### Linear Regression Model"
   ]
  },
  {
   "cell_type": "markdown",
   "metadata": {},
   "source": [
    "Linear regression model has been in use since a very long time. Linear regression is a linear model, i.e, a model that assumes a linear relationship between the input variables (x) and the single output variable (y). More specifically, that y can be calculated from a linear combination of the input variables (x).\n",
    "\n",
    "When there is a single input variable (x), the method is referred to as simple linear regression. When there are multiple input variables, literature from statistics often refers to the method as multiple linear regression."
   ]
  },
  {
   "cell_type": "markdown",
   "metadata": {},
   "source": [
    "The first machine learning model that is applied is linear regression. Here, multiple linear regression model is applied. This regression model is applied to the training and testing datasets and model is fitted accordingly. "
   ]
  },
  {
   "cell_type": "code",
   "execution_count": 15,
   "metadata": {},
   "outputs": [
    {
     "data": {
      "text/plain": [
       "LinearRegression()"
      ]
     },
     "execution_count": 15,
     "metadata": {},
     "output_type": "execute_result"
    }
   ],
   "source": [
    "#Linear Regression\n",
    "from sklearn.linear_model import LinearRegression\n",
    "from sklearn.model_selection import train_test_split\n",
    "\n",
    "X = df.drop('song_hotttnesss',axis=1)\n",
    "X = X.select_dtypes(exclude=[object])\n",
    "Y = df['song_hotttnesss'].values\n",
    "\n",
    "trainX, testX, trainY, testY = train_test_split(X, Y, train_size=0.70)\n",
    "\n",
    "lm = LinearRegression()\n",
    "\n",
    "lm.fit(trainX,trainY)"
   ]
  },
  {
   "cell_type": "markdown",
   "metadata": {},
   "source": [
    "The datasets are predicted for popularity of the song depending on the features of the song. Mean error square is also applied to the datasets and accuracy score is calculated for liner regression model."
   ]
  },
  {
   "cell_type": "code",
   "execution_count": 16,
   "metadata": {},
   "outputs": [
    {
     "name": "stdout",
     "output_type": "stream",
     "text": [
      "mse_train = 0.007218607132177344\n",
      "mse_test = 0.0072431559141273435\n",
      "r2_train = 0.7060064306105618\n",
      "r2_test = 0.705904569545614\n"
     ]
    }
   ],
   "source": [
    "from sklearn import metrics\n",
    "\n",
    "pred_train = lm.predict(trainX)\n",
    "pred_test = lm.predict(testX)\n",
    "\n",
    "mse_train = metrics.mean_squared_error(trainY,pred_train)\n",
    "mse_test = metrics.mean_squared_error(testY,pred_test)\n",
    "\n",
    "r2_train = metrics.r2_score(trainY,pred_train)\n",
    "r2_test = metrics.r2_score(testY,pred_test)\n",
    "\n",
    "print(f\"mse_train = {mse_train}\")\n",
    "print(f\"mse_test = {mse_test}\")\n",
    "print(f\"r2_train = {r2_train}\")\n",
    "print(f\"r2_test = {r2_test}\")\n"
   ]
  },
  {
   "cell_type": "markdown",
   "metadata": {},
   "source": [
    "After the acuracy calculation for the model we found that the accuracy of the model is 70.6% for training dataset and 70.5% for testing model."
   ]
  },
  {
   "cell_type": "markdown",
   "metadata": {},
   "source": [
    "The linear regression model is applyed only to the top five features of the dataset rather than the top ten features and the process is repeated again to predict the popularity."
   ]
  },
  {
   "cell_type": "code",
   "execution_count": 17,
   "metadata": {},
   "outputs": [
    {
     "data": {
      "text/plain": [
       "LinearRegression()"
      ]
     },
     "execution_count": 17,
     "metadata": {},
     "output_type": "execute_result"
    }
   ],
   "source": [
    "X = df.drop('song_hotttnesss',axis=1)\n",
    "X = X.select_dtypes(exclude=[object])\n",
    "X_top_5_features = X[list(features_df.head().Features)] \n",
    "Y = df['song_hotttnesss'].values\n",
    "\n",
    "trainX, testX, trainY, testY = train_test_split(X_top_5_features, Y, train_size=0.70)\n",
    "\n",
    "lm = LinearRegression()\n",
    "\n",
    "lm.fit(trainX,trainY)"
   ]
  },
  {
   "cell_type": "markdown",
   "metadata": {},
   "source": [
    "The accuracy of the model of for the dataset with top five features is calculated and we forn that the scores have further gone down and thus this model cannot be accepted."
   ]
  },
  {
   "cell_type": "code",
   "execution_count": 18,
   "metadata": {},
   "outputs": [
    {
     "name": "stdout",
     "output_type": "stream",
     "text": [
      "mse_train = 0.01814365784339429\n",
      "mse_test = 0.018181536161067158\n",
      "r2_train = 0.26120989131128225\n",
      "r2_test = 0.2614234798022489\n"
     ]
    }
   ],
   "source": [
    "pred_train = lm.predict(trainX)\n",
    "pred_test = lm.predict(testX)\n",
    "\n",
    "mse_train = metrics.mean_squared_error(trainY,pred_train)\n",
    "mse_test = metrics.mean_squared_error(testY,pred_test)\n",
    "\n",
    "r2_train = metrics.r2_score(trainY,pred_train)\n",
    "r2_test = metrics.r2_score(testY,pred_test)\n",
    "\n",
    "print(f\"mse_train = {mse_train}\")\n",
    "print(f\"mse_test = {mse_test}\")\n",
    "print(f\"r2_train = {r2_train}\")\n",
    "print(f\"r2_test = {r2_test}\")"
   ]
  },
  {
   "cell_type": "markdown",
   "metadata": {},
   "source": [
    "#### K-Nearest Neighbours"
   ]
  },
  {
   "cell_type": "markdown",
   "metadata": {},
   "source": [
    "K-Nearest Neighbors (KNN) is one of the simplest algorithms used in Machine Learning for regression and classification problem. KNN algorithms use data and classify new data points based on similarity measures. Classification is done by a majority vote to its neighbors. The data is assigned to the class which has the nearest neighbors. As you increase the number of nearest neighbors, the value of k, accuracy might increase."
   ]
  },
  {
   "cell_type": "markdown",
   "metadata": {},
   "source": [
    "This model is applied to the dataset and by importing the neighbors library. The model predicts the popularity using the song hotness column. Then the accuracy of the model is calculated."
   ]
  },
  {
   "cell_type": "code",
   "execution_count": 19,
   "metadata": {},
   "outputs": [
    {
     "data": {
      "text/plain": [
       "0.023151987172133848"
      ]
     },
     "execution_count": 19,
     "metadata": {},
     "output_type": "execute_result"
    }
   ],
   "source": [
    "#K-Neighbors Regressor\n",
    "from sklearn import neighbors\n",
    "X = df.drop('song_hotttnesss',axis=1)\n",
    "X = X.select_dtypes(exclude=[object])\n",
    "X_top_5_features = X[list(features_df.head().Features)] \n",
    "Y = df['song_hotttnesss'].values\n",
    "\n",
    "trainX, testX, trainY, testY = train_test_split(X_top_5_features, Y, train_size=0.70)\n",
    "knn_regressor = neighbors.KNeighborsRegressor(n_neighbors=5, weights='uniform')\n",
    "knn_regressor.fit(trainX,trainY)\n",
    "knn_regressor.predict(testX)\n",
    "knn_regressor.score(testX,testY)"
   ]
  },
  {
   "cell_type": "markdown",
   "metadata": {},
   "source": [
    "The accuracy of the above model when compared with song hotness is 23% which is very low."
   ]
  },
  {
   "cell_type": "markdown",
   "metadata": {},
   "source": [
    "The same steps of the above model is performed and compared with ispopular rather than song hotness column. The accuracy calculated and compared to the above model."
   ]
  },
  {
   "cell_type": "code",
   "execution_count": 20,
   "metadata": {},
   "outputs": [
    {
     "data": {
      "text/plain": [
       "0.5925236696049625"
      ]
     },
     "execution_count": 20,
     "metadata": {},
     "output_type": "execute_result"
    }
   ],
   "source": [
    "#KNN\n",
    "\n",
    "X = df.drop('song_hotttnesss',axis=1)\n",
    "X = X.select_dtypes(exclude=[object])\n",
    "X_top_5_features = X[list(features_df.head().Features)] \n",
    "Y = df['isPopular'].values\n",
    "\n",
    "trainX, testX, trainY, testY = train_test_split(X_top_5_features, Y, train_size=0.70)\n",
    "\n",
    "knn = neighbors.KNeighborsClassifier(n_neighbors=100, weights='uniform')\n",
    "knn.fit(trainX,trainY)\n",
    "\n",
    "knn.predict(testX)\n",
    "knn_score = knn.score(testX,testY)\n",
    "knn_score\n"
   ]
  },
  {
   "cell_type": "markdown",
   "metadata": {},
   "source": [
    "The accuracy calculated is 59% which is better than the previous accuracy."
   ]
  },
  {
   "cell_type": "markdown",
   "metadata": {},
   "source": [
    "#### ROC\n",
    "\n",
    "The full form of ROC is Receiver Operating Characteristics. ROC is a probability curve and area under the curve(AUC) represents degree or measure of separability. It tells how much model is capable of distinguishing between classes. Higher the AUC, better the model is at predicting 0s as 0s and 1s as 1s. By analogy, Higher the AUC, better the model is at distinguishing between its properties."
   ]
  },
  {
   "cell_type": "markdown",
   "metadata": {},
   "source": [
    "#### Precision and Recall\n",
    "\n",
    "Presion attempts to answer what proportion of positive identifications for the dataset was actually correct. \n",
    " \n",
    "Recall attempts to answer what proportion of actual positives was identified correctly for the dataset."
   ]
  },
  {
   "attachments": {
    "image.png": {
     "image/png": "[encoded data removed]"
    }
   },
   "cell_type": "markdown",
   "metadata": {},
   "source": [
    "The Formula for Presision is: \n",
    "\n",
    "![Precision.png](attachment:image.png)"
   ]
  },
  {
   "attachments": {
    "image.png": {
     "image/png": "[encoded data removed]"
    }
   },
   "cell_type": "markdown",
   "metadata": {},
   "source": [
    "The Formula for Recall is:\n",
    "\n",
    "![Recall.png](attachment:image.png)"
   ]
  },
  {
   "cell_type": "markdown",
   "metadata": {},
   "source": [
    "Later, the losgistic regression model is applied to the dataset and again accuracy and ROC for the model is calculated. Confusion matrix is used to calculate the accuracy, ROC, precision and recall."
   ]
  },
  {
   "cell_type": "code",
   "execution_count": 21,
   "metadata": {},
   "outputs": [
    {
     "name": "stdout",
     "output_type": "stream",
     "text": [
      "Accuracy score = 0.6961040374360649\n",
      "ROC AUC Score = 0.7596019439966648\n",
      "===================================================\n",
      "Confusion Matrix\n",
      "[[33855 12416]\n",
      " [15509 30110]]\n",
      "===================================================\n",
      "              precision    recall  f1-score   support\n",
      "\n",
      "           0       0.69      0.73      0.71     46271\n",
      "           1       0.71      0.66      0.68     45619\n",
      "\n",
      "    accuracy                           0.70     91890\n",
      "   macro avg       0.70      0.70      0.70     91890\n",
      "weighted avg       0.70      0.70      0.70     91890\n",
      "\n"
     ]
    }
   ],
   "source": [
    "#Logistic Regression\n",
    "from sklearn.linear_model import LogisticRegression\n",
    "from sklearn.metrics import roc_curve, roc_auc_score\n",
    "\n",
    "lr = LogisticRegression()\n",
    "lr.fit(trainX,trainY)\n",
    "\n",
    "predicted = lr.predict(testX)\n",
    "probs = lr.predict_proba(testX)\n",
    "lr_score = metrics.accuracy_score(testY, predicted)\n",
    "print(f\"Accuracy score = {lr_score}\")\n",
    "print(f\"ROC AUC Score = {roc_auc_score(testY, probs[:,1])}\")\n",
    "print(\"===================================================\")\n",
    "print(\"Confusion Matrix\")\n",
    "print(metrics.confusion_matrix(testY, predicted))\n",
    "print(\"===================================================\")\n",
    "print(metrics.classification_report(testY, predicted))"
   ]
  },
  {
   "cell_type": "markdown",
   "metadata": {},
   "source": [
    "The final accuracy that is calculated is nearly 70% when calculated in confusion matrix. The fianl ROC value is 75% which is good."
   ]
  },
  {
   "cell_type": "markdown",
   "metadata": {},
   "source": [
    "#### Cross Validation"
   ]
  },
  {
   "cell_type": "markdown",
   "metadata": {},
   "source": [
    "Cross-validation is a resampling procedure used to evaluate machine learning models on a limited data sample.\n",
    "\n",
    "The procedure has a single parameter called k that refers to the number of groups that a given data sample is to be split into. As such, the procedure is often called k-fold cross-validation. When a specific value for k is chosen, it may be used in place of k in the reference to the model, such as k=10 becoming 10-fold cross-validation.\n",
    "\n",
    "Cross-validation is primarily used in applied machine learning to estimate the skill of a machine learning model on unseen data, i.e, it uses a limited sample in order to estimate how the model is expected to perform."
   ]
  },
  {
   "cell_type": "markdown",
   "metadata": {},
   "source": [
    "The process of KNN model is applied with cross validation using cross_val_score library and all the accuracy scores and colleted and the mean of these scores are calculated and compared to the above model."
   ]
  },
  {
   "cell_type": "code",
   "execution_count": 22,
   "metadata": {},
   "outputs": [
    {
     "name": "stdout",
     "output_type": "stream",
     "text": [
      "[0.69955926 0.69693111 0.6920666  0.69277984 0.69632217]\n",
      "0.695531795958242\n"
     ]
    }
   ],
   "source": [
    "from sklearn.model_selection import cross_val_score\n",
    "scores = cross_val_score(lr, X_top_5_features, Y, scoring='accuracy', cv=5)\n",
    "print(scores)\n",
    "print(scores.mean())"
   ]
  },
  {
   "cell_type": "markdown",
   "metadata": {},
   "source": [
    "The mean accuracy for KNN after cross validation is 69.5% which is very close to the accuracy without cross validation."
   ]
  },
  {
   "cell_type": "markdown",
   "metadata": {},
   "source": [
    "#### Decision Tree"
   ]
  },
  {
   "cell_type": "markdown",
   "metadata": {},
   "source": [
    "Decision Tree is a type of Supervised Machine Learning, i.e, you explain what the input is and what the corresponding output is in the training data is, and where the data is continuously split according to a certain parameter. The tree can be explained by two entities, namely decision nodes and leaves. The leaves are the decisions or the final outcomes while, the decision nodes are where the data is split. "
   ]
  },
  {
   "cell_type": "markdown",
   "metadata": {},
   "source": [
    "The decision tree model is applied to the training and testing dataset and each step accuracy is collected in a list and then the mean of all the accuracy is calculated for decision tree model."
   ]
  },
  {
   "cell_type": "code",
   "execution_count": 23,
   "metadata": {},
   "outputs": [
    {
     "name": "stdout",
     "output_type": "stream",
     "text": [
      "[0.71496898 0.71934378 0.71420176 0.7173803  0.71574789]\n",
      "0.7163285443297206\n"
     ]
    }
   ],
   "source": [
    "#Decision Tree\n",
    "from sklearn.tree import DecisionTreeClassifier\n",
    "\n",
    "model_dt = DecisionTreeClassifier()\n",
    "model_dt.fit(X_top_5_features,Y)\n",
    "scores_dt = cross_val_score(model_dt,X_top_5_features,Y,scoring='accuracy',cv=5)\n",
    "print(scores_dt)\n",
    "print(scores_dt.mean())"
   ]
  },
  {
   "cell_type": "markdown",
   "metadata": {},
   "source": [
    "The accuracy is 71.6% for the model which is the best when compared to the all the models that have been applied so far to the dataset."
   ]
  },
  {
   "cell_type": "markdown",
   "metadata": {},
   "source": [
    "The F-score, also called the F1-score, is a measure of a model’s accuracy on a dataset. It is used to evaluate binary classification systems, which classify examples into ‘positive’ or ‘negative’.\n",
    "\n",
    "The F-score is a way of combining the precision and recall of the model, and it is defined as the harmonic mean of the model’s precision and recall."
   ]
  },
  {
   "cell_type": "markdown",
   "metadata": {},
   "source": [
    "The formula to calculate F1 is:"
   ]
  },
  {
   "attachments": {
    "image.png": {
     "image/png": "[encoded data removed]"
    }
   },
   "cell_type": "markdown",
   "metadata": {},
   "source": [
    "![image.png](attachment:image.png)"
   ]
  },
  {
   "cell_type": "markdown",
   "metadata": {},
   "source": [
    "The F1 score for the dataset is also calculated using cross validation, in each step the F1 score is measured and stored in a list. The, mean of this list is the F1 score of the model. this is calculated as it is the best model that has been applied so far to the dataset."
   ]
  },
  {
   "cell_type": "code",
   "execution_count": 24,
   "metadata": {},
   "outputs": [
    {
     "name": "stdout",
     "output_type": "stream",
     "text": [
      "[0.71276298 0.71693522 0.7134685  0.71447141 0.71319079]\n",
      "0.7141657803427768\n"
     ]
    }
   ],
   "source": [
    "dt_f1_scores = cross_val_score(model_dt,X_top_5_features,Y,scoring='f1',cv=5)\n",
    "print(dt_f1_scores)\n",
    "print(dt_f1_scores.mean())"
   ]
  },
  {
   "cell_type": "markdown",
   "metadata": {},
   "source": [
    "The F1 score for the model is 71% for Decision tree."
   ]
  },
  {
   "cell_type": "markdown",
   "metadata": {},
   "source": [
    "The ROC for the Decision tree classifier is calculated in the same maner and the mean of these is the actual ROC value of the dataset."
   ]
  },
  {
   "cell_type": "code",
   "execution_count": 25,
   "metadata": {},
   "outputs": [
    {
     "name": "stdout",
     "output_type": "stream",
     "text": [
      "[0.71516345 0.71826743 0.71428697 0.71723085 0.71525259]\n",
      "0.7160402584399235\n"
     ]
    }
   ],
   "source": [
    "dt_roc_scores = cross_val_score(model_dt,X_top_5_features,Y,scoring='roc_auc',cv=5)\n",
    "print(dt_roc_scores)\n",
    "print(dt_roc_scores.mean())"
   ]
  },
  {
   "cell_type": "markdown",
   "metadata": {},
   "source": [
    "The final ROC is 71% which is not better than ROC of logistic regression."
   ]
  },
  {
   "cell_type": "markdown",
   "metadata": {},
   "source": [
    "#### Random Forest Model"
   ]
  },
  {
   "cell_type": "markdown",
   "metadata": {},
   "source": [
    "Random forest is a popular machine learning algorithm. It can be used for both Classification and Regression problems. It is based on the concept of ensemble learning, which is a process of combining multiple classifiers to solve a complex problem and to improve the performance of the model.\n",
    "\n",
    "Random Forest is a classifier that contains a number of decision trees on various subsets of the given dataset and takes the average to improve the predictive accuracy of that dataset. Instead of relying on one decision tree, the random forest takes the prediction from each tree and based on the majority votes of predictions, and it predicts the final output."
   ]
  },
  {
   "cell_type": "markdown",
   "metadata": {},
   "source": [
    "The final model that is applied to the dataset is Random forest classifier model. The model is applied through the process of cross validation. The same process as above is applied to measure the accuracy, F1 score and ROC for the model."
   ]
  },
  {
   "cell_type": "code",
   "execution_count": 26,
   "metadata": {},
   "outputs": [
    {
     "name": "stdout",
     "output_type": "stream",
     "text": [
      "[0.74557623 0.74991838 0.7464414  0.74604548 0.75092639]\n",
      "0.74778157679358\n"
     ]
    }
   ],
   "source": [
    "#Random Forest\n",
    "from sklearn.ensemble import RandomForestClassifier\n",
    "\n",
    "model_rf = RandomForestClassifier(n_estimators=15)\n",
    "model_rf.fit(X_top_5_features,Y)\n",
    "\n",
    "scores_rf = cross_val_score(model_rf,X_top_5_features,Y,scoring='accuracy',cv=5)\n",
    "print(scores_rf)\n",
    "print(scores_rf.mean())"
   ]
  },
  {
   "cell_type": "markdown",
   "metadata": {},
   "source": [
    "The accuracy for the model is 74.7% which is the best accuracy recorded so far for any of the models which have been applied so far. "
   ]
  },
  {
   "cell_type": "code",
   "execution_count": 27,
   "metadata": {},
   "outputs": [
    {
     "name": "stdout",
     "output_type": "stream",
     "text": [
      "[0.75325567 0.74898534 0.74481274 0.74048319 0.74883713]\n",
      "0.7472748117136643\n"
     ]
    }
   ],
   "source": [
    "rf_f1_scores = cross_val_score(model_rf,X_top_5_features,Y,scoring='f1',cv=5)\n",
    "print(rf_f1_scores)\n",
    "print(rf_f1_scores.mean())"
   ]
  },
  {
   "cell_type": "markdown",
   "metadata": {},
   "source": [
    "The F1 score calculated is 74.7%, Again this is higher compared to all the recorded F1 scores of the models."
   ]
  },
  {
   "cell_type": "code",
   "execution_count": 28,
   "metadata": {},
   "outputs": [
    {
     "name": "stdout",
     "output_type": "stream",
     "text": [
      "0.8185599108416135\n"
     ]
    }
   ],
   "source": [
    "rf_roc_scores = cross_val_score(model_rf,X_top_5_features,Y,scoring='roc_auc',cv=5)\n",
    "print(rf_roc_scores.mean())"
   ]
  },
  {
   "cell_type": "markdown",
   "metadata": {},
   "source": [
    "The ROC index is 81.8% which is again the hightest when compared to the other ROC indices."
   ]
  },
  {
   "cell_type": "markdown",
   "metadata": {},
   "source": [
    "Now that all the models have been applied to the dataset and the accuracy has been recoded for each model. All the accuracies are plotted and the model which has the best accuracy rate is choosen for the prediction model."
   ]
  },
  {
   "cell_type": "code",
   "execution_count": 29,
   "metadata": {},
   "outputs": [
    {
     "data": {
      "text/plain": [
       "<matplotlib.axes._subplots.AxesSubplot at 0x1b70481c548>"
      ]
     },
     "execution_count": 29,
     "metadata": {},
     "output_type": "execute_result"
    },
    {
     "data": {
      "image/png": "[encoded data removed]",
      "text/plain": [
       "<Figure size 432x288 with 1 Axes>"
      ]
     },
     "metadata": {
      "needs_background": "light"
     },
     "output_type": "display_data"
    }
   ],
   "source": [
    "d = {'Model':['KNN','Logistic Regression','Decision Tree','Random Forest'],'Accuracy':[knn_score,scores.mean(),scores_dt.mean(),scores_rf.mean()]}\n",
    "\n",
    "agg_scores = pd.DataFrame(data = d)\n",
    "agg_scores.plot(x='Model',y='Accuracy',kind='bar')"
   ]
  },
  {
   "cell_type": "markdown",
   "metadata": {},
   "source": [
    "Looking at the graph that has been plotted we can finally come to a conclusion that the best model which gives the highest accuracy when applied to the dataset is Random forest classifier. Thus, this model is selected and deployed on the complete dataset to predict the popularity of the list of songs in the dataset."
   ]
  },
  {
   "cell_type": "markdown",
   "metadata": {},
   "source": [
    "### Model Development"
   ]
  },
  {
   "cell_type": "markdown",
   "metadata": {},
   "source": [
    "On applying the random forest classifier to the complete dataset we checked if there were any errors that occur during the deployment process. We didnot encounter any errors. Thus, we calculated the cunfusion matrix for the dataset using the cross_val_predict library and confusion matrix library."
   ]
  },
  {
   "cell_type": "code",
   "execution_count": 30,
   "metadata": {},
   "outputs": [
    {
     "name": "stdout",
     "output_type": "stream",
     "text": [
      "[[114479  39754]\n",
      " [ 37842 114223]]\n"
     ]
    }
   ],
   "source": [
    "from sklearn.model_selection import cross_val_predict\n",
    "y_pred = cross_val_predict(model_rf,X_top_5_features,Y,cv=5)\n",
    "\n",
    "print(metrics.confusion_matrix(Y,y_pred))"
   ]
  },
  {
   "cell_type": "markdown",
   "metadata": {},
   "source": [
    "Using the above confusion matrix we calculated precision, recall, F1 score and accuracy for the deployed or the final model to check if the model is working as good on the complete dataset as it wos working for the training an testing dataset seperately. The final results are displayed in the matrix below."
   ]
  },
  {
   "cell_type": "code",
   "execution_count": 31,
   "metadata": {},
   "outputs": [
    {
     "name": "stdout",
     "output_type": "stream",
     "text": [
      "              precision    recall  f1-score   support\n",
      "\n",
      "           0       0.75      0.74      0.75    154233\n",
      "           1       0.74      0.75      0.75    152065\n",
      "\n",
      "    accuracy                           0.75    306298\n",
      "   macro avg       0.75      0.75      0.75    306298\n",
      "weighted avg       0.75      0.75      0.75    306298\n",
      "\n"
     ]
    }
   ],
   "source": [
    "print(metrics.classification_report(Y, y_pred))"
   ]
  },
  {
   "cell_type": "markdown",
   "metadata": {},
   "source": [
    "### Evaluation"
   ]
  },
  {
   "cell_type": "markdown",
   "metadata": {},
   "source": [
    "Looking at the derived matrix we could conclude that the precision for the final model is 75%, the recall for the selected model is 74%, F1 score for the model is 75% and the complete accuracy is 75%. \n",
    "\n",
    "As the accuracy is above 70% we can accept this model as other machine learning models would have given a lower accuracy score when compared to random forest classifier as we have seen when applying the models to the training dataset. Thus, we could conclde that the best accuracy for the final model will be given by random forest classifier and the accuracy of the model is 75%. "
   ]
  },
  {
   "cell_type": "markdown",
   "metadata": {},
   "source": [
    "To represnt the ROC plot we considers the true positive rate and false negetive rate that was presicted by the final model and ploted it in the graph below. The Dotted line represents how the ROC curve would have been without the prediction and the blue line represents how the ROC curve is after the prediction."
   ]
  },
  {
   "cell_type": "code",
   "execution_count": 32,
   "metadata": {},
   "outputs": [
    {
     "data": {
      "image/png": "[encoded data removed]",
      "text/plain": [
       "<Figure size 432x288 with 1 Axes>"
      ]
     },
     "metadata": {
      "needs_background": "light"
     },
     "output_type": "display_data"
    }
   ],
   "source": [
    "from sklearn.metrics import roc_curve,auc\n",
    "fpr, tpr, thresholds = roc_curve(Y,y_pred)\n",
    "roc_auc = auc(fpr, tpr)\n",
    "\n",
    "plt.title('Receiver Operating Characteristic')\n",
    "plt.plot(fpr, tpr, 'b', label = 'AUC = %0.2f' % roc_auc)\n",
    "plt.legend(loc = 'lower right')\n",
    "plt.plot([0, 1], [0, 1],'r--')\n",
    "plt.xlim([0, 1])\n",
    "plt.ylim([0, 1])\n",
    "plt.ylabel('True Positive Rate')\n",
    "plt.xlabel('False Positive Rate')\n",
    "plt.show()\n"
   ]
  },
  {
   "cell_type": "markdown",
   "metadata": {},
   "source": [
    "### Conclusion"
   ]
  },
  {
   "cell_type": "markdown",
   "metadata": {},
   "source": [
    "Finally we were able to predict if the song will be popular or not using random forest classifier model. This model was built and compared to various other machine learning models. We calculated various parameters of each model to check whether the model's accuracy is currect or not. Considering all the parametes we were finally able to conclude on which machine learning model is best suited for the selected dataset."
   ]
  },
  {
   "cell_type": "code",
   "execution_count": null,
   "metadata": {},
   "outputs": [],
   "source": []
  }
 ],
 "metadata": {
  "kernelspec": {
   "display_name": "Python 3",
   "language": "python",
   "name": "python3"
  },
  "language_info": {
   "codemirror_mode": {
    "name": "ipython",
    "version": 3
   },
   "file_extension": ".py",
   "mimetype": "text/x-python",
   "name": "python",
   "nbconvert_exporter": "python",
   "pygments_lexer": "ipython3",
   "version": "3.7.7"
  }
 },
 "nbformat": 4,
 "nbformat_minor": 4
}
